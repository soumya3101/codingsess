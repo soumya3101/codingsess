{
 "cells": [
  {
   "cell_type": "code",
   "execution_count": 10,
   "metadata": {},
   "outputs": [],
   "source": [
    "import pandas as pd\n",
    "import numpy as np\n",
    "import csv\n",
    "import matplotlib.pyplot as plt\n",
    "from pandas import DataFrame\n",
    "\n",
    "\n"
   ]
  },
  {
   "cell_type": "markdown",
   "metadata": {},
   "source": [
    "Hey guys! Hope you are excited to start week 4! 😃\n",
    "\n",
    "We will go over for loops again this week but a bit harder than last weeks. I will give you a task to start this week just to refresh your memory about for loops since we missed last week 😞\n",
    "\n",
    "**Task 1**\n",
    "\n",
    "a. Create a 10 x 10 matrix with ones. Fill the matrix with zeros using a for loop. (note - you will get bonus points if you did not look at last weeks code. Also I recommend using google to get help if you can't remember. In other words try not to look at last weeks code😝)\n",
    "\n",
    "b. Now create 5 x 5 matrix with zeros. Fill the entire 3rd row with ones. (Only the third row)\n",
    "\n",
    "c. In parts a and b explain what happens in each iteration."
   ]
  },
  {
   "cell_type": "markdown",
   "metadata": {},
   "source": [
    "\n",
    "\n",
    "\n",
    "Now we will go through **<u>functions</u>**. In python we can use 'def' to assign a function. So if we want to assign a function that adds two numbers 'a' and 'b' we can do the following."
   ]
  },
  {
   "cell_type": "code",
   "execution_count": 34,
   "metadata": {},
   "outputs": [
    {
     "name": "stdout",
     "output_type": "stream",
     "text": [
      "0\n",
      "1\n",
      "2\n",
      "3\n",
      "4\n",
      "5\n"
     ]
    }
   ],
   "source": [
    "apples=[0,1,2,3,4,5]\n",
    "\n",
    "for i in apples: \n",
    "    print(i)"
   ]
  },
  {
   "cell_type": "code",
   "execution_count": 11,
   "metadata": {},
   "outputs": [
    {
     "name": "stdout",
     "output_type": "stream",
     "text": [
      "[[1. 1. 1. 1. 1. 1. 1. 1. 1. 1.]\n",
      " [1. 1. 1. 1. 1. 1. 1. 1. 1. 1.]\n",
      " [1. 1. 1. 1. 1. 1. 1. 1. 1. 1.]\n",
      " [1. 1. 1. 1. 1. 1. 1. 1. 1. 1.]\n",
      " [1. 1. 1. 1. 1. 1. 1. 1. 1. 1.]\n",
      " [1. 1. 1. 1. 1. 1. 1. 1. 1. 1.]\n",
      " [1. 1. 1. 1. 1. 1. 1. 1. 1. 1.]\n",
      " [1. 1. 1. 1. 1. 1. 1. 1. 1. 1.]\n",
      " [1. 1. 1. 1. 1. 1. 1. 1. 1. 1.]\n",
      " [1. 1. 1. 1. 1. 1. 1. 1. 1. 1.]]\n",
      "[[0. 0. 0. 0. 0.]\n",
      " [0. 0. 0. 0. 0.]\n",
      " [1. 1. 1. 1. 1.]\n",
      " [0. 0. 0. 0. 0.]\n",
      " [0. 0. 0. 0. 0.]]\n"
     ]
    }
   ],
   "source": [
    "a=np.ones([10,10])\n",
    "b=np.zeros([5,5])\n",
    "for i in range(0, len(b)):\n",
    "    b[2]=1\n",
    "    \n",
    "\n",
    "print (a)\n",
    "print(b)\n"
   ]
  },
  {
   "cell_type": "code",
   "execution_count": 3,
   "metadata": {},
   "outputs": [
    {
     "data": {
      "text/plain": [
       "11122"
      ]
     },
     "execution_count": 3,
     "metadata": {},
     "output_type": "execute_result"
    }
   ],
   "source": [
    "def add(a,b):   #add is the name of the function.\n",
    "    sum = a + b #here we define the relationship between a and b\n",
    "    return(sum) #here we define the output\n",
    "\n",
    "add(11111,11) #now we can use this to add numbers.... "
   ]
  },
  {
   "cell_type": "markdown",
   "metadata": {},
   "source": [
    "**Task 2** \n",
    "\n",
    "a. Create functions for subtraction, multiplication and division."
   ]
  },
  {
   "cell_type": "code",
   "execution_count": 12,
   "metadata": {},
   "outputs": [
    {
     "data": {
      "text/plain": [
       "2.0"
      ]
     },
     "execution_count": 12,
     "metadata": {},
     "output_type": "execute_result"
    }
   ],
   "source": [
    "def minus(b,c):\n",
    "    minus=b-c\n",
    "    return (minus)\n",
    "minus(89076,789)\n",
    "\n",
    "def multiply(c,d):\n",
    "    multiply=c*d\n",
    "    return(multiply)\n",
    "multiply(8,9)\n",
    "\n",
    "def division(a,b):\n",
    "    division=a/b\n",
    "    return division\n",
    "division(4,2)\n",
    "\n",
    "\n",
    "    \n",
    "    \n"
   ]
  },
  {
   "cell_type": "code",
   "execution_count": 22,
   "metadata": {},
   "outputs": [
    {
     "name": "stdout",
     "output_type": "stream",
     "text": [
      "     target x  target y  x trajectory  y_trajectory\n",
      "0    -0.12000   0.00000      0.002939      0.001799\n",
      "1    -0.08480  -0.08480      0.002939      0.001800\n",
      "2    -0.08480   0.08480      0.002938      0.001801\n",
      "3    -0.06000   0.00000      0.002938      0.001802\n",
      "4    -0.04243  -0.04243      0.002938      0.001804\n",
      "..        ...       ...           ...           ...\n",
      "727       NaN       NaN     -0.055194     -0.004182\n",
      "728       NaN       NaN     -0.055193     -0.004173\n",
      "729       NaN       NaN     -0.055192     -0.004163\n",
      "730       NaN       NaN     -0.055191     -0.004153\n",
      "731       NaN       NaN     -0.055189     -0.004143\n",
      "\n",
      "[732 rows x 4 columns]\n"
     ]
    },
    {
     "data": {
      "image/png": "[encoded data removed]",
      "text/plain": [
       "<Figure size 432x288 with 1 Axes>"
      ]
     },
     "metadata": {
      "needs_background": "light"
     },
     "output_type": "display_data"
    }
   ],
   "source": [
    "df= pd.read_csv(r'C:\\Users\\bhats\\OneDrive\\Desktop\\PhD\\Python/Data.csv')\n",
    "print (df)\n",
    "\n",
    "def target():\n",
    "    plt.figure\n",
    "    plt.scatter(df['target x'],df['target y'],s=200,color='green')\n",
    "    \n",
    "target()"
   ]
  },
  {
   "cell_type": "code",
   "execution_count": 43,
   "metadata": {},
   "outputs": [
    {
     "name": "stdout",
     "output_type": "stream",
     "text": [
      "      SN                             ID  TN          RT   MT        hX  \\\n",
      "0      1       1234_2020-03-13_10-56-30   1  321.909309  732  0.002939   \n",
      "1      1       1234_2020-03-13_10-56-30   1  321.909309  732  0.002939   \n",
      "2      1       1234_2020-03-13_10-56-30   1  321.909309  732  0.002938   \n",
      "3      1       1234_2020-03-13_10-56-30   1  321.909309  732  0.002938   \n",
      "4      1       1234_2020-03-13_10-56-30   1  321.909309  732  0.002938   \n",
      "...   ..                            ...  ..         ...  ...       ...   \n",
      "2916   2  362737159_2020-02-21_13-14-33   2  340.599594  560  0.000592   \n",
      "2917   2  362737159_2020-02-21_13-14-33   2  340.599594  560  0.000591   \n",
      "2918   2  362737159_2020-02-21_13-14-33   2  340.599594  560  0.000590   \n",
      "2919   2  362737159_2020-02-21_13-14-33   2  340.599594  560  0.000589   \n",
      "2920   2  362737159_2020-02-21_13-14-33   2  340.599594  560  0.000588   \n",
      "\n",
      "            hY    hand_v       MEX       MEY   ETX   ETY  \n",
      "0     0.001799  0.001198 -0.054566 -0.004160 -0.06  0.00  \n",
      "1     0.001800  0.001241 -0.054566 -0.004160 -0.06  0.00  \n",
      "2     0.001801  0.001289 -0.054566 -0.004160 -0.06  0.00  \n",
      "3     0.001802  0.001342 -0.054566 -0.004160 -0.06  0.00  \n",
      "4     0.001804  0.001399 -0.054566 -0.004160 -0.06  0.00  \n",
      "...        ...       ...       ...       ...   ...   ...  \n",
      "2916  0.122036  0.018135  0.000390  0.122125  0.00  0.12  \n",
      "2917  0.122017  0.018427  0.000390  0.122125  0.00  0.12  \n",
      "2918  0.121999  0.018704  0.000390  0.122125  0.00  0.12  \n",
      "2919  0.121980  0.018966  0.000390  0.122125  0.00  0.12  \n",
      "2920  0.121960  0.019212  0.000390  0.122125  0.00  0.12  \n",
      "\n",
      "[2921 rows x 12 columns]\n"
     ]
    },
    {
     "data": {
      "image/png": "[encoded data removed]",
      "text/plain": [
       "<Figure size 432x288 with 1 Axes>"
      ]
     },
     "metadata": {
      "needs_background": "light"
     },
     "output_type": "display_data"
    },
    {
     "data": {
      "image/png": "[encoded data removed]",
      "text/plain": [
       "<Figure size 432x288 with 1 Axes>"
      ]
     },
     "metadata": {
      "needs_background": "light"
     },
     "output_type": "display_data"
    }
   ],
   "source": [
    "df2= pd.read_csv(r'C:\\Users\\bhats\\OneDrive\\Desktop\\PhD\\Python/Data2.csv')\n",
    "\n",
    "print(df2)\n",
    "\n",
    "for i in range(1,3):\n",
    "    \n",
    "    plt.figure()\n",
    "    target()\n",
    "    for k in range(3):\n",
    "        x=df2[(df2.SN==i )& (df2.TN==k)]['hX']\n",
    "        y=df2[(df2.SN==i)&(df2.TN==k)]['hY']\n",
    "        plt.plot(x,y)\n",
    "\n",
    "\n",
    " \n",
    "        \n",
    " \n",
    "        "
   ]
  },
  {
   "cell_type": "markdown",
   "metadata": {},
   "source": [
    "Now lets try using both functions and for loops in the same example! \n",
    "\n",
    "Lets say we want to find the first n fibonnaci numbers(where n is an integer). \n",
    "\n",
    "(Also if you don't fibonnacci sequence, it is a sequence such that each number is the sum of the two preceding ones, starting from 0 and 1. So the sequence is 1,1,2,3,5,8,13,21....and it goes on. Also google fibonacci spiral! its pretty interesting!)\n",
    "\n",
    "So lets write a function to find the first n fibonacci numbers."
   ]
  },
  {
   "cell_type": "code",
   "execution_count": 45,
   "metadata": {},
   "outputs": [
    {
     "data": {
      "image/png": "[encoded data removed]",
      "text/plain": [
       "<Figure size 432x288 with 1 Axes>"
      ]
     },
     "metadata": {
      "needs_background": "light"
     },
     "output_type": "display_data"
    },
    {
     "data": {
      "image/png": "[encoded data removed]",
      "text/plain": [
       "<Figure size 432x288 with 1 Axes>"
      ]
     },
     "metadata": {
      "needs_background": "light"
     },
     "output_type": "display_data"
    }
   ],
   "source": [
    "for i in range(1,3):\n",
    "    \n",
    "    plt.figure()\n",
    "    target()\n",
    "    for k in range(3):\n",
    "        x=df2[(df2.SN==i )& (df2.TN==k)]['MEX']\n",
    "        y=df2[(df2.SN==i)&(df2.TN==k)]['MEY']\n",
    "        plt.scatter(x,y)\n",
    "        "
   ]
  },
  {
   "cell_type": "code",
   "execution_count": 59,
   "metadata": {},
   "outputs": [
    {
     "name": "stdout",
     "output_type": "stream",
     "text": [
      "0\n",
      "1\n",
      "1\n",
      "2\n",
      "3\n",
      "5\n",
      "8\n",
      "13\n",
      "21\n",
      "34\n",
      "55\n"
     ]
    }
   ],
   "source": [
    "def fib(n):\n",
    "    \n",
    "    a = 0 #define the first fibonacci number\n",
    "    b = 1 #define the second fibonacci number\n",
    "    print(a)\n",
    "    print(b)\n",
    "    \n",
    "    \n",
    "    for i in range(1,10):\n",
    "        c = a + b\n",
    "        a = b\n",
    "        b = c\n",
    "        print(c)  \n",
    "        \n",
    "fib(100) #now you can find the first fibonacci numbers. Try 100 its actually gonna give you the first 100 fib numbers. I didn't\n",
    "#try any further but you can try :D"
   ]
  },
  {
   "cell_type": "markdown",
   "metadata": {},
   "source": [
    "**Task 3**\n",
    "\n",
    "a. Write the values of a, b, c in the first 5 iterations of the for loop in the code.\n",
    "\n",
    "b. Why do I have the range starting from 2 in the for loop? \n",
    "\n",
    "c. Write a function that uses an input 'n' and prints out the squares upto n? (if the function name is 'sqr', the output for sqr(4) will be 1,4,9,16)"
   ]
  },
  {
   "cell_type": "code",
   "execution_count": 10,
   "metadata": {},
   "outputs": [
    {
     "ename": "IndentationError",
     "evalue": "unexpected indent (<ipython-input-10-0ceba661072a>, line 2)",
     "output_type": "error",
     "traceback": [
      "\u001b[1;36m  File \u001b[1;32m\"<ipython-input-10-0ceba661072a>\"\u001b[1;36m, line \u001b[1;32m2\u001b[0m\n\u001b[1;33m    a=0\u001b[0m\n\u001b[1;37m    ^\u001b[0m\n\u001b[1;31mIndentationError\u001b[0m\u001b[1;31m:\u001b[0m unexpected indent\n"
     ]
    }
   ],
   "source": [
    "#For the first itiration\n",
    "        a=0\n",
    "        b= 1\n",
    "        c=0+1=1\n",
    "        For second: \n",
    "            a=1\n",
    "            b=1\n",
    "            c=1+1=2\n",
    "        For third: \n",
    "            a=1\n",
    "            b=2\n",
    "            c=2+1=3\n",
    "        For fourth: \n",
    "            a=2\n",
    "            b=3\n",
    "            c=5\n",
    "        For fifth: \n",
    "            a=3\n",
    "            b=5\n",
    "            c=8\n",
    "            \n",
    "        "
   ]
  },
  {
   "cell_type": "code",
   "execution_count": null,
   "metadata": {},
   "outputs": [],
   "source": [
    "\n",
    "##Since we need a minimum length of two to start the itiration and the loop to start.\n"
   ]
  },
  {
   "cell_type": "code",
   "execution_count": 21,
   "metadata": {},
   "outputs": [
    {
     "name": "stdout",
     "output_type": "stream",
     "text": [
      "0\n",
      "1\n",
      "4\n",
      "9\n",
      "16\n",
      "25\n",
      "36\n",
      "None\n"
     ]
    }
   ],
   "source": [
    "def squares(n):\n",
    "    a=n**2\n",
    "    for i in range(0,n+1):\n",
    "        squares=i**2\n",
    "        print (squares)\n",
    "        \n",
    "print (squares(6))"
   ]
  },
  {
   "cell_type": "code",
   "execution_count": null,
   "metadata": {},
   "outputs": [],
   "source": []
  }
 ],
 "metadata": {
  "kernelspec": {
   "display_name": "Python 3",
   "language": "python",
   "name": "python3"
  },
  "language_info": {
   "codemirror_mode": {
    "name": "ipython",
    "version": 3
   },
   "file_extension": ".py",
   "mimetype": "text/x-python",
   "name": "python",
   "nbconvert_exporter": "python",
   "pygments_lexer": "ipython3",
   "version": "3.7.6"
  }
 },
 "nbformat": 4,
 "nbformat_minor": 4
}
