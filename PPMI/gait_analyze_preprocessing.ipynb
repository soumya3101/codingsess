{
 "cells": [
  {
   "cell_type": "markdown",
   "metadata": {},
   "source": [
    "# PPMI Gait Analysis\n",
    "This data set is part of the Parkinson's Progression Markers Initiative. Anat Mirelman, PhD, of Tel Aviv University is the PI. According to the study summary: \"The Gait study was proposed in order to obtain quantitative, objective motor measures that could\n",
    "inform on pre-clinical symptoms, progression markers, and dynamic changes of function throughout disease and potential modifiers and mediators of motor symptoms.\"\n",
    "\n",
    "My goals are to explore the data set to see if I can come up with an interesting clinical question, and to also improve my data science skills. One interesting question is to try and classify each subject according to these gait measures. The main categories of subjects are individuals who have a genetic marker for PD (e.g., LRRK2) but do not show signs of PD, and those who have a genetic marker and do have diagnoses of PD. "
   ]
  },
  {
   "cell_type": "code",
   "execution_count": 1,
   "metadata": {},
   "outputs": [],
   "source": [
    "# import libraries\n",
    "import pandas as pd\n",
    "import numpy as np\n",
    "import matplotlib.pyplot as plt\n",
    "import seaborn as sns\n",
    "from numpy import linalg as LA\n",
    "from datetime import datetime\n",
    "\n",
    "from sklearn import preprocessing\n",
    "from sklearn.preprocessing import scale \n",
    "from sklearn import model_selection\n",
    "from sklearn.linear_model import LogisticRegression\n",
    "from sklearn.discriminant_analysis import LinearDiscriminantAnalysis as LDA\n",
    "from sklearn.discriminant_analysis import QuadraticDiscriminantAnalysis as QDA\n",
    "from sklearn.metrics import confusion_matrix, classification_report, precision_score\n",
    "\n",
    "from sklearn.model_selection import cross_val_score, cross_val_predict, LeaveOneOut\n",
    "from sklearn.model_selection import KFold\n",
    "\n",
    "# This sets a higher resolution for figures\n",
    "%config InlineBackend.figure_format = 'retina'"
   ]
  },
  {
   "cell_type": "markdown",
   "metadata": {},
   "source": [
    "First, we need to import the necessary data sets. The Gait_Data data are the objective gait measures. The Screening data contain information on all > 600 individuals participating in PPMI.  "
   ]
  },
  {
   "cell_type": "code",
   "execution_count": 5,
   "metadata": {},
   "outputs": [
    {
     "data": {
      "text/plain": [
       "Index(['PATNO', 'EVENT_ID', 'INFODT', 'COHORT', 'SP_U', 'RA_AMP_U', 'LA_AMP_U',\n",
       "       'RA_STD_U', 'LA_STD_U', 'SYM_U', 'R_JERK_U', 'L_JERK_U', 'ASA_U',\n",
       "       'ASYM_IND_U', 'TRA_U', 'T_AMP_U', 'CAD_U', 'STR_T_U', 'STR_CV_U',\n",
       "       'STEP_REG_U', 'STEP_SYM_U', 'JERK_T_U', 'SP__DT', 'RA_AMP_DT',\n",
       "       'LA_AMP_DT', 'RA_STD_DT', 'LA_STD_DT', 'SYM_DT', 'R_JERK_DT',\n",
       "       'L_JERK_DT', 'ASA_DT', 'ASYM_IND_DT', 'TRA_DT', 'T_AMP_DT', 'CAD_DT',\n",
       "       'STR_T_DT', 'STR_CV_DT', 'STEP_REG_DT', 'STEP_SYM_DT', 'JERK_T_DT',\n",
       "       'SW_VEL_OP', 'SW_PATH_OP', 'SW_FREQ_OP', 'SW_JERK_OP', 'SW_VEL_CL',\n",
       "       'SW_PATH_CL', 'SW_FREQ_CL', 'SW_JERK_CL', 'TUG1_DUR', 'TUG1_STEP_NUM',\n",
       "       'TUG1_STRAIGHT_DUR', 'TUG1_TURNS_DUR', 'TUG1_STEP_REG', 'TUG1_STEP_SYM',\n",
       "       'TUG2_DUR', 'TUG2_STEP_NUM', 'TUG2_STRAIGHT_DUR', 'TUG2_TURNS_DUR',\n",
       "       'TUG2_STEP_REG', 'TUG2_STEP_SYM'],\n",
       "      dtype='object')"
      ]
     },
     "execution_count": 5,
     "metadata": {},
     "output_type": "execute_result"
    }
   ],
   "source": [
    "pd.options.display.max_rows = 1000\n",
    "gait = pd.read_csv('Gait_Data___Arm_swing.csv')\n",
    "screen_all = pd.read_csv('Screening___Demographics.csv')\n",
    "updrs = pd.read_csv('MDS_UPDRS_Part_III.csv')\n",
    "gait.columns"
   ]
  },
  {
   "cell_type": "code",
   "execution_count": null,
   "metadata": {},
   "outputs": [],
   "source": [
    "screen_all.columns"
   ]
  },
  {
   "cell_type": "markdown",
   "metadata": {},
   "source": [
    "From screening data, I only care about a few variables."
   ]
  },
  {
   "cell_type": "code",
   "execution_count": 6,
   "metadata": {},
   "outputs": [],
   "source": [
    "# 'PATNO', 'APPRDX', 'CURRENT_APPRDX', 'BIRTHDT', 'GENDER'\n",
    "key_vars = ['PATNO', 'APPRDX', 'CURRENT_APPRDX', 'BIRTHDT', 'GENDER']\n",
    "screen_filt = screen_all[key_vars]"
   ]
  },
  {
   "cell_type": "markdown",
   "metadata": {},
   "source": [
    "For UPDRS Part III (motor scores), I only care about the 33 variables related to the testing instrument. "
   ]
  },
  {
   "cell_type": "code",
   "execution_count": 7,
   "metadata": {
    "scrolled": true
   },
   "outputs": [
    {
     "name": "stdout",
     "output_type": "stream",
     "text": [
      "<class 'pandas.core.frame.DataFrame'>\n",
      "RangeIndex: 15832 entries, 0 to 15831\n",
      "Data columns (total 35 columns):\n",
      " #   Column    Non-Null Count  Dtype  \n",
      "---  ------    --------------  -----  \n",
      " 0   PATNO     15832 non-null  int64  \n",
      " 1   INFODT    15832 non-null  object \n",
      " 2   NP3SPCH   15832 non-null  int64  \n",
      " 3   NP3FACXP  15832 non-null  int64  \n",
      " 4   NP3RIGN   15829 non-null  float64\n",
      " 5   NP3RIGRU  15829 non-null  float64\n",
      " 6   NP3RIGLU  15829 non-null  float64\n",
      " 7   PN3RIGRL  15827 non-null  float64\n",
      " 8   NP3RIGLL  15826 non-null  float64\n",
      " 9   NP3FTAPR  15830 non-null  float64\n",
      " 10  NP3FTAPL  15827 non-null  float64\n",
      " 11  NP3HMOVR  15830 non-null  float64\n",
      " 12  NP3HMOVL  15826 non-null  float64\n",
      " 13  NP3PRSPR  15830 non-null  float64\n",
      " 14  NP3PRSPL  15828 non-null  float64\n",
      " 15  NP3TTAPR  15799 non-null  float64\n",
      " 16  NP3TTAPL  15802 non-null  float64\n",
      " 17  NP3LGAGR  15831 non-null  float64\n",
      " 18  NP3LGAGL  15830 non-null  float64\n",
      " 19  NP3RISNG  15829 non-null  float64\n",
      " 20  NP3GAIT   15830 non-null  float64\n",
      " 21  NP3FRZGT  15815 non-null  float64\n",
      " 22  NP3PSTBL  15801 non-null  float64\n",
      " 23  NP3POSTR  15829 non-null  float64\n",
      " 24  NP3BRADY  15829 non-null  float64\n",
      " 25  NP3PTRMR  15829 non-null  float64\n",
      " 26  NP3PTRML  15828 non-null  float64\n",
      " 27  NP3KTRMR  15829 non-null  float64\n",
      " 28  NP3KTRML  15830 non-null  float64\n",
      " 29  NP3RTARU  15830 non-null  float64\n",
      " 30  NP3RTALU  15830 non-null  float64\n",
      " 31  NP3RTARL  15830 non-null  float64\n",
      " 32  NP3RTALL  15830 non-null  float64\n",
      " 33  NP3RTALJ  15829 non-null  float64\n",
      " 34  NP3RTCON  15828 non-null  float64\n",
      "dtypes: float64(31), int64(3), object(1)\n",
      "memory usage: 4.2+ MB\n"
     ]
    }
   ],
   "source": [
    "updrs_vars = ['PATNO', 'INFODT', 'NP3SPCH', 'NP3FACXP', 'NP3RIGN', 'NP3RIGRU', 'NP3RIGLU', 'PN3RIGRL', 'NP3RIGLL', \n",
    "              'NP3FTAPR', 'NP3FTAPL', 'NP3HMOVR', 'NP3HMOVL', 'NP3PRSPR', 'NP3PRSPL', 'NP3TTAPR', \n",
    "              'NP3TTAPL', 'NP3LGAGR', 'NP3LGAGL', 'NP3RISNG', 'NP3GAIT', 'NP3FRZGT', 'NP3PSTBL', \n",
    "              'NP3POSTR', 'NP3BRADY', 'NP3PTRMR', 'NP3PTRML', 'NP3KTRMR', 'NP3KTRML', 'NP3RTARU', \n",
    "              'NP3RTALU', 'NP3RTARL', 'NP3RTALL', 'NP3RTALJ', 'NP3RTCON']\n",
    "updrs_filt = updrs[updrs_vars]\n",
    "updrs_filt.info()"
   ]
  },
  {
   "cell_type": "code",
   "execution_count": 8,
   "metadata": {
    "scrolled": true
   },
   "outputs": [
    {
     "name": "stdout",
     "output_type": "stream",
     "text": [
      "Subjects kept same dx? True\n",
      "103\n",
      "191\n"
     ]
    }
   ],
   "source": [
    "# Now I want to create new dataframe that only includes patients common to both gait and screen_filt\n",
    "df_merged = pd.merge(gait, screen_filt, how='inner', on=['PATNO'])\n",
    "\n",
    "# Did all of the subjects keep same diagnosis? If so, you can drop one of the dx columns \n",
    "print(\"Subjects kept same dx? \" + str(sum(df_merged['APPRDX'] == df_merged['CURRENT_APPRDX']) == len(df_merged)))\n",
    "\n",
    "# Let's drop some more columns\n",
    "df_merged = df_merged.drop(columns=['CURRENT_APPRDX', 'EVENT_ID', 'COHORT'])\n",
    "\n",
    "df_merged.columns\n",
    "\n",
    "print(len(np.unique(df_merged['PATNO'])))\n",
    "print(len(df_merged))"
   ]
  },
  {
   "cell_type": "code",
   "execution_count": 16,
   "metadata": {
    "scrolled": false
   },
   "outputs": [
    {
     "name": "stdout",
     "output_type": "stream",
     "text": [
      "103\n",
      "103\n",
      "191\n"
     ]
    },
    {
     "data": {
      "text/plain": [
       "56"
      ]
     },
     "execution_count": 16,
     "metadata": {},
     "output_type": "execute_result"
    }
   ],
   "source": [
    "# keep track of the cols (excluding UDPRS scores) that we want to keep later when we drop rows based on NaNs\n",
    "predictor_cols = ['SP_U', 'RA_AMP_U', 'LA_AMP_U', 'RA_STD_U',\n",
    "       'LA_STD_U', 'SYM_U', 'R_JERK_U', 'L_JERK_U', 'ASA_U', 'ASYM_IND_U',\n",
    "       'TRA_U', 'T_AMP_U', 'CAD_U', 'STR_T_U', 'STR_CV_U', 'STEP_REG_U',\n",
    "       'STEP_SYM_U', 'JERK_T_U', 'SP__DT', 'RA_AMP_DT', 'LA_AMP_DT',\n",
    "       'RA_STD_DT', 'LA_STD_DT', 'SYM_DT', 'R_JERK_DT', 'L_JERK_DT', 'ASA_DT',\n",
    "       'ASYM_IND_DT', 'TRA_DT', 'T_AMP_DT', 'CAD_DT', 'STR_T_DT', 'STR_CV_DT',\n",
    "       'STEP_REG_DT', 'STEP_SYM_DT', 'JERK_T_DT', 'SW_VEL_OP', 'SW_PATH_OP',\n",
    "       'SW_FREQ_OP', 'SW_JERK_OP', 'SW_VEL_CL', 'SW_PATH_CL', 'SW_FREQ_CL',\n",
    "       'SW_JERK_CL', 'TUG1_DUR', 'TUG1_STEP_NUM', 'TUG1_STRAIGHT_DUR',\n",
    "       'TUG1_TURNS_DUR', 'TUG1_STEP_REG', 'TUG1_STEP_SYM', 'TUG2_DUR',\n",
    "       'TUG2_STEP_NUM', 'TUG2_STRAIGHT_DUR', 'TUG2_TURNS_DUR', 'TUG2_STEP_REG',\n",
    "       'TUG2_STEP_SYM']\n",
    "\n",
    "# How many unique subjects are there? \n",
    "print(len(np.unique(gait['PATNO'])))\n",
    "print(len(np.unique(df_merged['PATNO'])))\n",
    "print(len(df_merged))\n",
    "df_merged.head()\n",
    "len(predictor_cols)"
   ]
  },
  {
   "cell_type": "markdown",
   "metadata": {},
   "source": [
    "We want to create another data frame that contains data only from each patient's initial visit."
   ]
  },
  {
   "cell_type": "code",
   "execution_count": 10,
   "metadata": {
    "scrolled": true
   },
   "outputs": [
    {
     "name": "stdout",
     "output_type": "stream",
     "text": [
      "<class 'pandas.core.frame.DataFrame'>\n",
      "Int64Index: 103 entries, 0 to 102\n",
      "Data columns (total 62 columns):\n",
      " #   Column             Non-Null Count  Dtype  \n",
      "---  ------             --------------  -----  \n",
      " 0   PATNO              103 non-null    int64  \n",
      " 1   INFODT             103 non-null    object \n",
      " 2   SP_U               94 non-null     float64\n",
      " 3   RA_AMP_U           94 non-null     float64\n",
      " 4   LA_AMP_U           94 non-null     float64\n",
      " 5   RA_STD_U           94 non-null     float64\n",
      " 6   LA_STD_U           94 non-null     float64\n",
      " 7   SYM_U              94 non-null     float64\n",
      " 8   R_JERK_U           94 non-null     float64\n",
      " 9   L_JERK_U           94 non-null     float64\n",
      " 10  ASA_U              94 non-null     float64\n",
      " 11  ASYM_IND_U         94 non-null     float64\n",
      " 12  TRA_U              94 non-null     float64\n",
      " 13  T_AMP_U            94 non-null     float64\n",
      " 14  CAD_U              94 non-null     float64\n",
      " 15  STR_T_U            94 non-null     float64\n",
      " 16  STR_CV_U           94 non-null     float64\n",
      " 17  STEP_REG_U         94 non-null     float64\n",
      " 18  STEP_SYM_U         94 non-null     float64\n",
      " 19  JERK_T_U           94 non-null     float64\n",
      " 20  SP__DT             93 non-null     float64\n",
      " 21  RA_AMP_DT          95 non-null     float64\n",
      " 22  LA_AMP_DT          95 non-null     float64\n",
      " 23  RA_STD_DT          95 non-null     float64\n",
      " 24  LA_STD_DT          95 non-null     float64\n",
      " 25  SYM_DT             95 non-null     float64\n",
      " 26  R_JERK_DT          95 non-null     float64\n",
      " 27  L_JERK_DT          95 non-null     float64\n",
      " 28  ASA_DT             95 non-null     float64\n",
      " 29  ASYM_IND_DT        95 non-null     float64\n",
      " 30  TRA_DT             95 non-null     float64\n",
      " 31  T_AMP_DT           95 non-null     float64\n",
      " 32  CAD_DT             95 non-null     float64\n",
      " 33  STR_T_DT           95 non-null     float64\n",
      " 34  STR_CV_DT          95 non-null     float64\n",
      " 35  STEP_REG_DT        95 non-null     float64\n",
      " 36  STEP_SYM_DT        95 non-null     float64\n",
      " 37  JERK_T_DT          95 non-null     float64\n",
      " 38  SW_VEL_OP          103 non-null    float64\n",
      " 39  SW_PATH_OP         103 non-null    float64\n",
      " 40  SW_FREQ_OP         103 non-null    float64\n",
      " 41  SW_JERK_OP         103 non-null    float64\n",
      " 42  SW_VEL_CL          99 non-null     float64\n",
      " 43  SW_PATH_CL         99 non-null     float64\n",
      " 44  SW_FREQ_CL         98 non-null     float64\n",
      " 45  SW_JERK_CL         99 non-null     float64\n",
      " 46  TUG1_DUR           101 non-null    float64\n",
      " 47  TUG1_STEP_NUM      101 non-null    float64\n",
      " 48  TUG1_STRAIGHT_DUR  101 non-null    float64\n",
      " 49  TUG1_TURNS_DUR     101 non-null    float64\n",
      " 50  TUG1_STEP_REG      101 non-null    float64\n",
      " 51  TUG1_STEP_SYM      101 non-null    float64\n",
      " 52  TUG2_DUR           98 non-null     float64\n",
      " 53  TUG2_STEP_NUM      98 non-null     float64\n",
      " 54  TUG2_STRAIGHT_DUR  98 non-null     float64\n",
      " 55  TUG2_TURNS_DUR     98 non-null     float64\n",
      " 56  TUG2_STEP_REG      98 non-null     float64\n",
      " 57  TUG2_STEP_SYM      98 non-null     float64\n",
      " 58  APPRDX             103 non-null    float64\n",
      " 59  BIRTHDT            103 non-null    float64\n",
      " 60  GENDER             103 non-null    float64\n",
      " 61  INFODATE           103 non-null    object \n",
      "dtypes: float64(59), int64(1), object(2)\n",
      "memory usage: 50.7+ KB\n"
     ]
    }
   ],
   "source": [
    "# We first need to format the dates correctly. Note that this method imputes day of month, but it doesn't matter\n",
    "# since we only have month and year\n",
    "df_merged['INFODATE'] = [datetime.strptime(x, '%m/%Y') for x in df_merged['INFODT']]\n",
    "\n",
    "# Next we want to create new data frame with only first visit's data\n",
    "df_baseline = df_merged.sort_values('INFODATE').groupby(['PATNO'], as_index=False).first()\n",
    "df_baseline.info()"
   ]
  },
  {
   "cell_type": "markdown",
   "metadata": {},
   "source": [
    "Let's figure out how many subjects were assessed on multiple visits."
   ]
  },
  {
   "cell_type": "code",
   "execution_count": null,
   "metadata": {
    "scrolled": true
   },
   "outputs": [],
   "source": [
    "df_pts = df_merged.groupby('PATNO', as_index=False).count()\n",
    "df_pts['MULT_VISITS'] = [1 if x > 1 else 0 for x in df_pts['INFODT']]\n",
    "df_mult_visits = df_pts[df_pts['MULT_VISITS']==1]\n",
    "print(len(df_mult_visits))"
   ]
  },
  {
   "cell_type": "markdown",
   "metadata": {},
   "source": [
    "Uncomment next line if you want to print the current data frame."
   ]
  },
  {
   "cell_type": "code",
   "execution_count": null,
   "metadata": {},
   "outputs": [],
   "source": [
    "# df_baseline.to_csv('gait_baseline.csv', index=False)"
   ]
  },
  {
   "cell_type": "markdown",
   "metadata": {},
   "source": [
    "Let's start to look at the data. "
   ]
  },
  {
   "cell_type": "code",
   "execution_count": 11,
   "metadata": {
    "scrolled": true
   },
   "outputs": [
    {
     "name": "stdout",
     "output_type": "stream",
     "text": [
      "<class 'pandas.core.frame.DataFrame'>\n",
      "Int64Index: 103 entries, 0 to 102\n",
      "Data columns (total 62 columns):\n",
      " #   Column             Non-Null Count  Dtype  \n",
      "---  ------             --------------  -----  \n",
      " 0   PATNO              103 non-null    int64  \n",
      " 1   INFODT             103 non-null    object \n",
      " 2   SP_U               94 non-null     float64\n",
      " 3   RA_AMP_U           94 non-null     float64\n",
      " 4   LA_AMP_U           94 non-null     float64\n",
      " 5   RA_STD_U           94 non-null     float64\n",
      " 6   LA_STD_U           94 non-null     float64\n",
      " 7   SYM_U              94 non-null     float64\n",
      " 8   R_JERK_U           94 non-null     float64\n",
      " 9   L_JERK_U           94 non-null     float64\n",
      " 10  ASA_U              94 non-null     float64\n",
      " 11  ASYM_IND_U         94 non-null     float64\n",
      " 12  TRA_U              94 non-null     float64\n",
      " 13  T_AMP_U            94 non-null     float64\n",
      " 14  CAD_U              94 non-null     float64\n",
      " 15  STR_T_U            94 non-null     float64\n",
      " 16  STR_CV_U           94 non-null     float64\n",
      " 17  STEP_REG_U         94 non-null     float64\n",
      " 18  STEP_SYM_U         94 non-null     float64\n",
      " 19  JERK_T_U           94 non-null     float64\n",
      " 20  SP__DT             93 non-null     float64\n",
      " 21  RA_AMP_DT          95 non-null     float64\n",
      " 22  LA_AMP_DT          95 non-null     float64\n",
      " 23  RA_STD_DT          95 non-null     float64\n",
      " 24  LA_STD_DT          95 non-null     float64\n",
      " 25  SYM_DT             95 non-null     float64\n",
      " 26  R_JERK_DT          95 non-null     float64\n",
      " 27  L_JERK_DT          95 non-null     float64\n",
      " 28  ASA_DT             95 non-null     float64\n",
      " 29  ASYM_IND_DT        95 non-null     float64\n",
      " 30  TRA_DT             95 non-null     float64\n",
      " 31  T_AMP_DT           95 non-null     float64\n",
      " 32  CAD_DT             95 non-null     float64\n",
      " 33  STR_T_DT           95 non-null     float64\n",
      " 34  STR_CV_DT          95 non-null     float64\n",
      " 35  STEP_REG_DT        95 non-null     float64\n",
      " 36  STEP_SYM_DT        95 non-null     float64\n",
      " 37  JERK_T_DT          95 non-null     float64\n",
      " 38  SW_VEL_OP          103 non-null    float64\n",
      " 39  SW_PATH_OP         103 non-null    float64\n",
      " 40  SW_FREQ_OP         103 non-null    float64\n",
      " 41  SW_JERK_OP         103 non-null    float64\n",
      " 42  SW_VEL_CL          99 non-null     float64\n",
      " 43  SW_PATH_CL         99 non-null     float64\n",
      " 44  SW_FREQ_CL         98 non-null     float64\n",
      " 45  SW_JERK_CL         99 non-null     float64\n",
      " 46  TUG1_DUR           101 non-null    float64\n",
      " 47  TUG1_STEP_NUM      101 non-null    float64\n",
      " 48  TUG1_STRAIGHT_DUR  101 non-null    float64\n",
      " 49  TUG1_TURNS_DUR     101 non-null    float64\n",
      " 50  TUG1_STEP_REG      101 non-null    float64\n",
      " 51  TUG1_STEP_SYM      101 non-null    float64\n",
      " 52  TUG2_DUR           98 non-null     float64\n",
      " 53  TUG2_STEP_NUM      98 non-null     float64\n",
      " 54  TUG2_STRAIGHT_DUR  98 non-null     float64\n",
      " 55  TUG2_TURNS_DUR     98 non-null     float64\n",
      " 56  TUG2_STEP_REG      98 non-null     float64\n",
      " 57  TUG2_STEP_SYM      98 non-null     float64\n",
      " 58  APPRDX             103 non-null    float64\n",
      " 59  BIRTHDT            103 non-null    float64\n",
      " 60  GENDER             103 non-null    float64\n",
      " 61  INFODATE           103 non-null    object \n",
      "dtypes: float64(59), int64(1), object(2)\n",
      "memory usage: 50.7+ KB\n"
     ]
    }
   ],
   "source": [
    "df_baseline.info()"
   ]
  },
  {
   "cell_type": "code",
   "execution_count": 12,
   "metadata": {},
   "outputs": [
    {
     "data": {
      "text/plain": [
       "<matplotlib.axes._subplots.AxesSubplot at 0x1a1cdf3910>"
      ]
     },
     "execution_count": 12,
     "metadata": {},
     "output_type": "execute_result"
    },
    {
     "data": {
      "image/png": "[encoded data removed]",
      "text/plain": [
       "<Figure size 432x288 with 2 Axes>"
      ]
     },
     "metadata": {
      "image/png": {
       "height": 336,
       "width": 442
      },
      "needs_background": "light"
     },
     "output_type": "display_data"
    }
   ],
   "source": [
    "# Plot correlation matrix \n",
    "sns.heatmap(df_baseline.corr(),cmap='coolwarm')"
   ]
  },
  {
   "cell_type": "code",
   "execution_count": null,
   "metadata": {},
   "outputs": [],
   "source": [
    "# Plot each variable against every other -- runtime is very slow, so don't include too much\n",
    "sns.pairplot(df_baseline[['SP_U', 'RA_AMP_U', \n",
    "       'RA_STD_U', 'SYM_U', 'R_JERK_U', 'SP__DT', 'RA_AMP_DT',\n",
    "       'RA_STD_DT', 'SYM_DT', 'R_JERK_DT']])"
   ]
  },
  {
   "cell_type": "code",
   "execution_count": null,
   "metadata": {},
   "outputs": [],
   "source": [
    "# count number of patients with each diagnosis\n",
    "print(df_baseline.groupby('APPRDX').count())"
   ]
  },
  {
   "cell_type": "code",
   "execution_count": null,
   "metadata": {
    "scrolled": true
   },
   "outputs": [],
   "source": [
    "print(df_baseline.info())"
   ]
  },
  {
   "cell_type": "code",
   "execution_count": 14,
   "metadata": {
    "scrolled": true
   },
   "outputs": [
    {
     "name": "stdout",
     "output_type": "stream",
     "text": [
      "26\n",
      "<class 'pandas.core.frame.DataFrame'>\n",
      "Int64Index: 103 entries, 0 to 102\n",
      "Data columns (total 62 columns):\n",
      " #   Column             Non-Null Count  Dtype  \n",
      "---  ------             --------------  -----  \n",
      " 0   PATNO              103 non-null    int64  \n",
      " 1   INFODT             103 non-null    object \n",
      " 2   SP_U               94 non-null     float64\n",
      " 3   RA_AMP_U           94 non-null     float64\n",
      " 4   LA_AMP_U           94 non-null     float64\n",
      " 5   RA_STD_U           94 non-null     float64\n",
      " 6   LA_STD_U           94 non-null     float64\n",
      " 7   SYM_U              94 non-null     float64\n",
      " 8   R_JERK_U           94 non-null     float64\n",
      " 9   L_JERK_U           94 non-null     float64\n",
      " 10  ASA_U              94 non-null     float64\n",
      " 11  ASYM_IND_U         94 non-null     float64\n",
      " 12  TRA_U              94 non-null     float64\n",
      " 13  T_AMP_U            94 non-null     float64\n",
      " 14  CAD_U              94 non-null     float64\n",
      " 15  STR_T_U            94 non-null     float64\n",
      " 16  STR_CV_U           94 non-null     float64\n",
      " 17  STEP_REG_U         94 non-null     float64\n",
      " 18  STEP_SYM_U         94 non-null     float64\n",
      " 19  JERK_T_U           94 non-null     float64\n",
      " 20  SP__DT             93 non-null     float64\n",
      " 21  RA_AMP_DT          95 non-null     float64\n",
      " 22  LA_AMP_DT          95 non-null     float64\n",
      " 23  RA_STD_DT          95 non-null     float64\n",
      " 24  LA_STD_DT          95 non-null     float64\n",
      " 25  SYM_DT             95 non-null     float64\n",
      " 26  R_JERK_DT          95 non-null     float64\n",
      " 27  L_JERK_DT          95 non-null     float64\n",
      " 28  ASA_DT             95 non-null     float64\n",
      " 29  ASYM_IND_DT        95 non-null     float64\n",
      " 30  TRA_DT             95 non-null     float64\n",
      " 31  T_AMP_DT           95 non-null     float64\n",
      " 32  CAD_DT             95 non-null     float64\n",
      " 33  STR_T_DT           95 non-null     float64\n",
      " 34  STR_CV_DT          95 non-null     float64\n",
      " 35  STEP_REG_DT        95 non-null     float64\n",
      " 36  STEP_SYM_DT        95 non-null     float64\n",
      " 37  JERK_T_DT          95 non-null     float64\n",
      " 38  SW_VEL_OP          103 non-null    float64\n",
      " 39  SW_PATH_OP         103 non-null    float64\n",
      " 40  SW_FREQ_OP         103 non-null    float64\n",
      " 41  SW_JERK_OP         103 non-null    float64\n",
      " 42  SW_VEL_CL          99 non-null     float64\n",
      " 43  SW_PATH_CL         99 non-null     float64\n",
      " 44  SW_FREQ_CL         98 non-null     float64\n",
      " 45  SW_JERK_CL         99 non-null     float64\n",
      " 46  TUG1_DUR           101 non-null    float64\n",
      " 47  TUG1_STEP_NUM      101 non-null    float64\n",
      " 48  TUG1_STRAIGHT_DUR  101 non-null    float64\n",
      " 49  TUG1_TURNS_DUR     101 non-null    float64\n",
      " 50  TUG1_STEP_REG      101 non-null    float64\n",
      " 51  TUG1_STEP_SYM      101 non-null    float64\n",
      " 52  TUG2_DUR           98 non-null     float64\n",
      " 53  TUG2_STEP_NUM      98 non-null     float64\n",
      " 54  TUG2_STRAIGHT_DUR  98 non-null     float64\n",
      " 55  TUG2_TURNS_DUR     98 non-null     float64\n",
      " 56  TUG2_STEP_REG      98 non-null     float64\n",
      " 57  TUG2_STEP_SYM      98 non-null     float64\n",
      " 58  APPRDX             103 non-null    float64\n",
      " 59  BIRTHDT            103 non-null    float64\n",
      " 60  GENDER             103 non-null    float64\n",
      " 61  INFODATE           103 non-null    object \n",
      "dtypes: float64(59), int64(1), object(2)\n",
      "memory usage: 50.7+ KB\n",
      "77\n",
      "   APPRDX  PATNO  INFODT  SP_U  RA_AMP_U  LA_AMP_U  RA_STD_U  LA_STD_U  SYM_U  \\\n",
      "0     4.0      1       1     1         1         1         1         1      1   \n",
      "1     5.0     45      45    45        45        45        45        45     45   \n",
      "2     6.0     31      31    31        31        31        31        31     31   \n",
      "\n",
      "   R_JERK_U  ...  TUG1_STEP_SYM  TUG2_DUR  TUG2_STEP_NUM  TUG2_STRAIGHT_DUR  \\\n",
      "0         1  ...              1         1              1                  1   \n",
      "1        45  ...             45        45             45                 45   \n",
      "2        31  ...             31        31             31                 31   \n",
      "\n",
      "   TUG2_TURNS_DUR  TUG2_STEP_REG  TUG2_STEP_SYM  BIRTHDT  GENDER  INFODATE  \n",
      "0               1              1              1        1       1         1  \n",
      "1              45             45             45       45      45        45  \n",
      "2              31             31             31       31      31        31  \n",
      "\n",
      "[3 rows x 62 columns]\n",
      "<class 'pandas.core.frame.DataFrame'>\n",
      "Int64Index: 77 entries, 0 to 101\n",
      "Data columns (total 62 columns):\n",
      " #   Column             Non-Null Count  Dtype  \n",
      "---  ------             --------------  -----  \n",
      " 0   PATNO              77 non-null     int64  \n",
      " 1   INFODT             77 non-null     object \n",
      " 2   SP_U               77 non-null     float64\n",
      " 3   RA_AMP_U           77 non-null     float64\n",
      " 4   LA_AMP_U           77 non-null     float64\n",
      " 5   RA_STD_U           77 non-null     float64\n",
      " 6   LA_STD_U           77 non-null     float64\n",
      " 7   SYM_U              77 non-null     float64\n",
      " 8   R_JERK_U           77 non-null     float64\n",
      " 9   L_JERK_U           77 non-null     float64\n",
      " 10  ASA_U              77 non-null     float64\n",
      " 11  ASYM_IND_U         77 non-null     float64\n",
      " 12  TRA_U              77 non-null     float64\n",
      " 13  T_AMP_U            77 non-null     float64\n",
      " 14  CAD_U              77 non-null     float64\n",
      " 15  STR_T_U            77 non-null     float64\n",
      " 16  STR_CV_U           77 non-null     float64\n",
      " 17  STEP_REG_U         77 non-null     float64\n",
      " 18  STEP_SYM_U         77 non-null     float64\n",
      " 19  JERK_T_U           77 non-null     float64\n",
      " 20  SP__DT             77 non-null     float64\n",
      " 21  RA_AMP_DT          77 non-null     float64\n",
      " 22  LA_AMP_DT          77 non-null     float64\n",
      " 23  RA_STD_DT          77 non-null     float64\n",
      " 24  LA_STD_DT          77 non-null     float64\n",
      " 25  SYM_DT             77 non-null     float64\n",
      " 26  R_JERK_DT          77 non-null     float64\n",
      " 27  L_JERK_DT          77 non-null     float64\n",
      " 28  ASA_DT             77 non-null     float64\n",
      " 29  ASYM_IND_DT        77 non-null     float64\n",
      " 30  TRA_DT             77 non-null     float64\n",
      " 31  T_AMP_DT           77 non-null     float64\n",
      " 32  CAD_DT             77 non-null     float64\n",
      " 33  STR_T_DT           77 non-null     float64\n",
      " 34  STR_CV_DT          77 non-null     float64\n",
      " 35  STEP_REG_DT        77 non-null     float64\n",
      " 36  STEP_SYM_DT        77 non-null     float64\n",
      " 37  JERK_T_DT          77 non-null     float64\n",
      " 38  SW_VEL_OP          77 non-null     float64\n",
      " 39  SW_PATH_OP         77 non-null     float64\n",
      " 40  SW_FREQ_OP         77 non-null     float64\n",
      " 41  SW_JERK_OP         77 non-null     float64\n",
      " 42  SW_VEL_CL          77 non-null     float64\n",
      " 43  SW_PATH_CL         77 non-null     float64\n",
      " 44  SW_FREQ_CL         77 non-null     float64\n",
      " 45  SW_JERK_CL         77 non-null     float64\n",
      " 46  TUG1_DUR           77 non-null     float64\n",
      " 47  TUG1_STEP_NUM      77 non-null     float64\n",
      " 48  TUG1_STRAIGHT_DUR  77 non-null     float64\n",
      " 49  TUG1_TURNS_DUR     77 non-null     float64\n",
      " 50  TUG1_STEP_REG      77 non-null     float64\n",
      " 51  TUG1_STEP_SYM      77 non-null     float64\n",
      " 52  TUG2_DUR           77 non-null     float64\n",
      " 53  TUG2_STEP_NUM      77 non-null     float64\n",
      " 54  TUG2_STRAIGHT_DUR  77 non-null     float64\n",
      " 55  TUG2_TURNS_DUR     77 non-null     float64\n",
      " 56  TUG2_STEP_REG      77 non-null     float64\n",
      " 57  TUG2_STEP_SYM      77 non-null     float64\n",
      " 58  APPRDX             77 non-null     float64\n",
      " 59  BIRTHDT            77 non-null     float64\n",
      " 60  GENDER             77 non-null     float64\n",
      " 61  INFODATE           77 non-null     object \n",
      "dtypes: float64(59), int64(1), object(2)\n",
      "memory usage: 37.9+ KB\n"
     ]
    },
    {
     "data": {
      "text/plain": [
       "array([40553, 40555, 40567, 40578, 40585, 40586, 40587, 40593, 40596,\n",
       "       40599, 40611, 40619, 40621, 41280, 41281, 41282, 41283, 41284,\n",
       "       41287, 41288, 41289, 41292, 41293, 41294, 41296, 41297, 41305,\n",
       "       41342, 41343, 41356, 41364, 41375, 41380, 41382, 41384, 41401,\n",
       "       41420, 41508, 41560, 41562, 41568, 41578, 41985, 41989, 41990,\n",
       "       41993, 42000, 42001, 42006, 42009, 42011, 42012, 42014, 42034,\n",
       "       42035, 42308, 42346, 42351, 42357, 42415, 42418, 42422, 42426,\n",
       "       42429, 42438, 42443, 42444, 42445, 42446, 42447, 42448, 42450,\n",
       "       42451, 42452, 42453, 42456, 60118])"
      ]
     },
     "execution_count": 14,
     "metadata": {},
     "output_type": "execute_result"
    }
   ],
   "source": [
    "# Count how many subjects have missing data\n",
    "print(df_baseline.isna().any(axis=1).sum())\n",
    "\n",
    "df_baseline.info()\n",
    "\n",
    "# Create new data frame that excludes subjects with missing data\n",
    "df_filt = df_baseline.dropna(subset=predictor_cols)\n",
    "\n",
    "print(len(df_filt))\n",
    "\n",
    "# Now how many subjects are there per group?\n",
    "print(df_filt.groupby('APPRDX', as_index=False).count())\n",
    "\n",
    "df_filt.info()\n"
   ]
  },
  {
   "cell_type": "code",
   "execution_count": 15,
   "metadata": {},
   "outputs": [
    {
     "data": {
      "text/plain": [
       "77"
      ]
     },
     "execution_count": 15,
     "metadata": {},
     "output_type": "execute_result"
    }
   ],
   "source": [
    "len(np.unique(df_filt['PATNO']))"
   ]
  },
  {
   "cell_type": "markdown",
   "metadata": {},
   "source": [
    "According to the presentation on accessing PPMI data (\"08b_v2_Caspell_Foster_PPMI-Data-Access_May-2015-v2.0.pdf\"), the APPRDX codes in our data set correspond to:\n",
    "\n",
    "**4 - Prodromal** (this means an individual who appears at risk for PD based on report of \"anosmia\" or disrupted REM behavior)\n",
    "\n",
    "**5 - Genetic Cohort subject with PD**\n",
    "\n",
    "**6 - Genetic Cohort subject unaffected**"
   ]
  },
  {
   "cell_type": "code",
   "execution_count": null,
   "metadata": {},
   "outputs": [],
   "source": [
    "# Based on above classifications, we want to classify subjects as either having PD (APPRDX=5) or no PD (APPRDX=4 or 6)\n",
    "ParkDx = [1 if x == 5 else 0 for x in df_filt['APPRDX']]\n",
    "\n",
    "# add Parkinson's disease binary variable to data frame\n",
    "df_filt = df_filt.assign(PD=ParkDx)"
   ]
  },
  {
   "cell_type": "code",
   "execution_count": null,
   "metadata": {
    "scrolled": true
   },
   "outputs": [],
   "source": [
    "df_filt.info()"
   ]
  }
 ],
 "metadata": {
  "kernelspec": {
   "display_name": "Python 3",
   "language": "python",
   "name": "python3"
  },
  "language_info": {
   "codemirror_mode": {
    "name": "ipython",
    "version": 3
   },
   "file_extension": ".py",
   "mimetype": "text/x-python",
   "name": "python",
   "nbconvert_exporter": "python",
   "pygments_lexer": "ipython3",
   "version": "3.7.6"
  }
 },
 "nbformat": 4,
 "nbformat_minor": 4
}
